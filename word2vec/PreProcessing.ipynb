{
 "cells": [
  {
   "cell_type": "markdown",
   "metadata": {},
   "source": [
    "# Word2vec pre-processing"
   ]
  },
  {
   "cell_type": "code",
   "execution_count": 1,
   "metadata": {},
   "outputs": [
    {
     "name": "stdout",
     "output_type": "stream",
     "text": [
      "Successfully processed word2vec!\n",
      "Vocab size =  3000000\n",
      "Hidden size =  300\n",
      "CPU times: user 1min 53s, sys: 31.4 s, total: 2min 24s\n",
      "Wall time: 5min 55s\n"
     ]
    }
   ],
   "source": [
    "import os\n",
    "from os.path import join\n",
    "from gensim import models\n",
    "import pickle\n",
    "from pathlib import Path\n",
    "import sys\n",
    "\n",
    "# Add the main directory to sys.path to be able to import config\n",
    "sys.path.append(str(Path.cwd().parent))\n",
    "from config import ROOT_DIR\n",
    "\n",
    "word2vec_data_folderpath = ROOT_DIR\n",
    "\n",
    "# Read the file and store data as a dictionary\n",
    "w = models.KeyedVectors.load_word2vec_format(\n",
    "    join(word2vec_data_folderpath, \"GoogleNews-vectors-negative300.bin\"), binary=True\n",
    ")\n",
    "word2vec = {word: w[word].tolist() for word in w.index_to_key}\n",
    "\n",
    "with open(\n",
    "    join(word2vec_data_folderpath, \"GoogleNews-vectors-negative300.pkl\"), \"wb\"\n",
    ") as f:\n",
    "    pickle.dump(word2vec, f)\n",
    "\n",
    "print(\"Successfully processed word2vec!\")\n",
    "print(\"Vocab size = \", len(list(word2vec.keys())))\n",
    "print(\"Hidden size = \", len(list(word2vec.values())[0]))"
   ]
  }
 ],
 "metadata": {
  "kernelspec": {
   "display_name": "dx-privacy",
   "language": "python",
   "name": "python3"
  },
  "language_info": {
   "codemirror_mode": {
    "name": "ipython",
    "version": 3
   },
   "file_extension": ".py",
   "mimetype": "text/x-python",
   "name": "python",
   "nbconvert_exporter": "python",
   "pygments_lexer": "ipython3",
   "version": "3.11.9"
  }
 },
 "nbformat": 4,
 "nbformat_minor": 2
}
