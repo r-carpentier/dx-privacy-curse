{
 "cells": [
  {
   "cell_type": "markdown",
   "metadata": {},
   "source": [
    "# Close Neighbors $d_\\mathcal{X}$-privacy frequencies\n"
   ]
  },
  {
   "cell_type": "markdown",
   "metadata": {},
   "source": [
    "This notebook applies $d_x$-privacy to random words from the vocabulary and identifies the rank (i.e., the \"k\" in k-th neighbor) of the word which was chosen as the replacement by the mechanism."
   ]
  },
  {
   "cell_type": "code",
   "execution_count": 2,
   "metadata": {},
   "outputs": [],
   "source": [
    "import pickle\n",
    "from os.path import join\n",
    "import numpy as np\n",
    "from collections import Counter\n",
    "from pathlib import Path\n",
    "import sys\n",
    "\n",
    "# Add the main directory to sys.path to be able to import config\n",
    "sys.path.append(str(Path.cwd().parent))\n",
    "from config import ROOT_DIR\n",
    "from utils.dx import sample_noise_vectors, noisy_embeddings_to_ids\n",
    "from utils.tools import rank_neighbors\n",
    "\n",
    "# PARAMS\n",
    "number_of_words = 5000\n",
    "# END PARAMS\n",
    "\n",
    "distance_metric = \"euclidean\"\n",
    "fasttext_data_folderpath = ROOT_DIR"
   ]
  },
  {
   "cell_type": "markdown",
   "metadata": {},
   "source": [
    "Load Fasttext"
   ]
  },
  {
   "cell_type": "code",
   "execution_count": 3,
   "metadata": {},
   "outputs": [
    {
     "name": "stdout",
     "output_type": "stream",
     "text": [
      "CPU times: user 1min 37s, sys: 56.9 s, total: 2min 34s\n",
      "Wall time: 3min 1s\n"
     ]
    }
   ],
   "source": [
    "with open(join(fasttext_data_folderpath, \"wiki.en.pkl\"), \"rb\") as f:\n",
    "    fasttext = pickle.load(f)\n",
    "\n",
    "vocab_embs = np.array(list(fasttext.values()))\n",
    "vocab_size = vocab_embs.shape[0]\n",
    "hidden_size = vocab_embs.shape[1]\n",
    "del fasttext  # Save RAM"
   ]
  },
  {
   "cell_type": "markdown",
   "metadata": {},
   "source": [
    "Select *number_of_words* random words and rank their neighbors according to their distance with the word in the embedding space."
   ]
  },
  {
   "cell_type": "code",
   "execution_count": 4,
   "metadata": {},
   "outputs": [
    {
     "name": "stdout",
     "output_type": "stream",
     "text": [
      "CPU times: user 44.6 s, sys: 9min 49s, total: 10min 34s\n",
      "Wall time: 10min 39s\n"
     ]
    }
   ],
   "source": [
    "words_ids = np.random.randint(0, vocab_size, size=number_of_words)\n",
    "words_embs = vocab_embs[words_ids]\n",
    "\n",
    "words_neighbors_ranked = rank_neighbors(words_embs, vocab_embs, distance_metric)"
   ]
  },
  {
   "cell_type": "markdown",
   "metadata": {},
   "source": [
    "Add noise to the embeddings of the words following the $d_x$-privacy mechanism and count which neighbor was chosen, represented by its rank in the neighbor list of the initial word."
   ]
  },
  {
   "cell_type": "code",
   "execution_count": 5,
   "metadata": {},
   "outputs": [
    {
     "name": "stdout",
     "output_type": "stream",
     "text": [
      "CPU times: user 8min 8s, sys: 3.54 s, total: 8min 12s\n",
      "Wall time: 1min 54s\n"
     ]
    }
   ],
   "source": [
    "epsilons = [i for i in range(1, 51)]\n",
    "neighbor_counted_occurences = {}\n",
    "\n",
    "for epsilon in epsilons:\n",
    "    embeddings = np.copy(words_embs)\n",
    "    noise = sample_noise_vectors(\n",
    "        dimension=hidden_size, shape1=1, shape2=number_of_words, epsilon=epsilon\n",
    "    )[0]\n",
    "    # Adding noise to embeddings\n",
    "    noisy_embedding = embeddings + noise\n",
    "\n",
    "    # Convert embedding back to text via Nearest neighbor Search\n",
    "    noisy_word_ids = noisy_embeddings_to_ids(\n",
    "        noisy_embedding, vocab_embs, distance_metric\n",
    "    )\n",
    "\n",
    "    # for all words_ids, get the rank k of noisy_word_ids[i] and increase a counter at index k\n",
    "    noisy_word_ids_ranks = words_neighbors_ranked[\n",
    "        np.arange(number_of_words), noisy_word_ids\n",
    "    ]  # This line, for all the elements i in the first dimension of words_neighbors_ranked, gets the particular value pointed by the index which is stored at noisy_word_ids[i]\n",
    "    noisy_word_ids_ranks_counted = Counter(noisy_word_ids_ranks)\n",
    "    neighbor_counted_occurences[epsilon] = [\n",
    "        noisy_word_ids_ranks_counted[k] for k in range(vocab_size)\n",
    "    ]"
   ]
  },
  {
   "cell_type": "markdown",
   "metadata": {},
   "source": [
    "Results are stored in *neighbor_counted_occurences*, which is a dictionary where the keys are integers representing the value of epsilon. The dictionary associates each epsilon with a list, where list[i] contains the number of times the i-th neighbor was chosen as the replacement of a word. "
   ]
  },
  {
   "cell_type": "markdown",
   "metadata": {},
   "source": [
    "Plot Figure"
   ]
  },
  {
   "cell_type": "code",
   "execution_count": 6,
   "metadata": {},
   "outputs": [
    {
     "data": {
      "image/png": "[encoded data removed]",
      "text/plain": [
       "<Figure size 350x262 with 1 Axes>"
      ]
     },
     "metadata": {},
     "output_type": "display_data"
    }
   ],
   "source": [
    "import matplotlib.pyplot as plt\n",
    "close_neighbors_max_rank = 100 # The maximum rank (including) of what is considered a \"close\" neighbor \n",
    "\n",
    "initial_word_frequency = np.array([neighbor_counted_occurences[i][0] for i in epsilons])\n",
    "close_neighbors_frequency = np.array([sum(neighbor_counted_occurences[i][1:close_neighbors_max_rank+1]) for i in epsilons])\n",
    "distant_neighbors_frequency = np.array([sum(neighbor_counted_occurences[i][close_neighbors_max_rank+1:]) for i in epsilons])\n",
    "\n",
    "fig, ax = plt.subplots(figsize=(3.5, 2.62))\n",
    "\n",
    "ax.plot(epsilons, initial_word_frequency/number_of_words, label=\"Original value\", linewidth=1.5, markersize=5)\n",
    "ax.plot(epsilons, distant_neighbors_frequency/number_of_words, label=\"Distant neighbors\", linewidth=1.5,linestyle='dashed')\n",
    "ax.plot(epsilons, close_neighbors_frequency/number_of_words, label=\"Close neighbors\", linewidth=1.5, marker=\".\", markevery=10)\n",
    "\n",
    "ax.set_xlabel(\"$\\epsilon$\")\n",
    "ax.set_ylabel(\"Proportion of the output\")\n",
    "ax.set_yticks(np.arange(0, 1.1, 0.1))\n",
    "\n",
    "ax.set_xlim(0,50)\n",
    "#ax.legend(framealpha=0.4, loc=\"right\")\n",
    "ax.grid()\n",
    "fig.tight_layout()\n",
    "fig.show()"
   ]
  }
 ],
 "metadata": {
  "kernelspec": {
   "display_name": "dx-privacy",
   "language": "python",
   "name": "python3"
  },
  "language_info": {
   "codemirror_mode": {
    "name": "ipython",
    "version": 3
   },
   "file_extension": ".py",
   "mimetype": "text/x-python",
   "name": "python",
   "nbconvert_exporter": "python",
   "pygments_lexer": "ipython3",
   "version": "3.11.9"
  }
 },
 "nbformat": 4,
 "nbformat_minor": 2
}
